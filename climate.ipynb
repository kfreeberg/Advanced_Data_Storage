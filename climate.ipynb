{
 "cells": [
  {
   "cell_type": "code",
   "execution_count": 1,
   "metadata": {},
   "outputs": [],
   "source": [
    "%matplotlib inline\n",
    "from matplotlib import style\n",
    "style.use('fivethirtyeight')\n",
    "import matplotlib.pyplot as plt"
   ]
  },
  {
   "cell_type": "code",
   "execution_count": 2,
   "metadata": {},
   "outputs": [],
   "source": [
    "import numpy as np\n",
    "import pandas as pd"
   ]
  },
  {
   "cell_type": "code",
   "execution_count": 3,
   "metadata": {},
   "outputs": [],
   "source": [
    "import datetime as dt"
   ]
  },
  {
   "cell_type": "markdown",
   "metadata": {},
   "source": [
    "# Reflect Tables into SQLAlchemy ORM"
   ]
  },
  {
   "cell_type": "code",
   "execution_count": 4,
   "metadata": {},
   "outputs": [],
   "source": [
    "# Python SQL toolkit and Object Relational Mapper\n",
    "import sqlalchemy\n",
    "from sqlalchemy.ext.automap import automap_base\n",
    "from sqlalchemy.orm import Session\n",
    "from sqlalchemy import create_engine, func, inspect"
   ]
  },
  {
   "cell_type": "code",
   "execution_count": 5,
   "metadata": {},
   "outputs": [],
   "source": [
    "engine = create_engine(\"sqlite:///Resources/hawaii.sqlite\")"
   ]
  },
  {
   "cell_type": "code",
   "execution_count": 6,
   "metadata": {},
   "outputs": [],
   "source": [
    "# reflect an existing database into a new model\n",
    "Base = automap_base()\n",
    "# reflect the tables\n",
    "Base.prepare(engine, reflect=True)"
   ]
  },
  {
   "cell_type": "code",
   "execution_count": 7,
   "metadata": {},
   "outputs": [
    {
     "data": {
      "text/plain": [
       "['measurement', 'station']"
      ]
     },
     "execution_count": 7,
     "metadata": {},
     "output_type": "execute_result"
    }
   ],
   "source": [
    "# We can view all of the classes that automap found\n",
    "Base.classes.keys()"
   ]
  },
  {
   "cell_type": "code",
   "execution_count": 8,
   "metadata": {},
   "outputs": [],
   "source": [
    "# Save references to each table\n",
    "Measurement = Base.classes.measurement\n",
    "Station = Base.classes.station"
   ]
  },
  {
   "cell_type": "code",
   "execution_count": 9,
   "metadata": {},
   "outputs": [],
   "source": [
    "# Create our session (link) from Python to the DB\n",
    "session = Session(engine)"
   ]
  },
  {
   "cell_type": "markdown",
   "metadata": {},
   "source": [
    "# Exploratory Climate Analysis"
   ]
  },
  {
   "cell_type": "code",
   "execution_count": 10,
   "metadata": {},
   "outputs": [
    {
     "data": {
      "text/plain": [
       "['measurement', 'station']"
      ]
     },
     "execution_count": 10,
     "metadata": {},
     "output_type": "execute_result"
    }
   ],
   "source": [
    "inspector = inspect(engine)\n",
    "\n",
    "inspector.get_table_names()\n"
   ]
  },
  {
   "cell_type": "code",
   "execution_count": 11,
   "metadata": {},
   "outputs": [
    {
     "name": "stdout",
     "output_type": "stream",
     "text": [
      "id INTEGER\n",
      "station TEXT\n",
      "date TEXT\n",
      "prcp FLOAT\n",
      "tobs FLOAT\n"
     ]
    }
   ],
   "source": [
    "columns = inspector.get_columns('measurement')\n",
    "for column in columns:\n",
    "    print(column[\"name\"], column[\"type\"])"
   ]
  },
  {
   "cell_type": "code",
   "execution_count": 12,
   "metadata": {},
   "outputs": [
    {
     "name": "stdout",
     "output_type": "stream",
     "text": [
      "id INTEGER\n",
      "station TEXT\n",
      "name TEXT\n",
      "latitude FLOAT\n",
      "longitude FLOAT\n",
      "elevation FLOAT\n"
     ]
    }
   ],
   "source": [
    "columns = inspector.get_columns('station')\n",
    "for column in columns:\n",
    "    print(column[\"name\"], column[\"type\"])"
   ]
  },
  {
   "cell_type": "code",
   "execution_count": 13,
   "metadata": {},
   "outputs": [
    {
     "data": {
      "text/plain": [
       "'2017-08-23'"
      ]
     },
     "execution_count": 13,
     "metadata": {},
     "output_type": "execute_result"
    }
   ],
   "source": [
    "# Design a query to retrieve the last 12 months of precipitation data and plot the results\n",
    "# Calculate the date 1 year ago from the last data point in the database\n",
    "\n",
    "last_obs_date=session.query(Measurement.date).\\\n",
    "    order_by(Measurement.date.desc()).first().date\n",
    "last_obs_date"
   ]
  },
  {
   "cell_type": "code",
   "execution_count": 14,
   "metadata": {},
   "outputs": [
    {
     "data": {
      "text/plain": [
       "datetime.datetime(2016, 8, 23, 0, 0)"
      ]
     },
     "execution_count": 14,
     "metadata": {},
     "output_type": "execute_result"
    }
   ],
   "source": [
    "year_ago = dt.datetime.strptime(last_obs_date, '%Y-%m-%d') - dt.timedelta(days=365)\n",
    "year_ago"
   ]
  },
  {
   "cell_type": "code",
   "execution_count": 15,
   "metadata": {},
   "outputs": [
    {
     "data": {
      "text/html": [
       "<div>\n",
       "<style scoped>\n",
       "    .dataframe tbody tr th:only-of-type {\n",
       "        vertical-align: middle;\n",
       "    }\n",
       "\n",
       "    .dataframe tbody tr th {\n",
       "        vertical-align: top;\n",
       "    }\n",
       "\n",
       "    .dataframe thead th {\n",
       "        text-align: right;\n",
       "    }\n",
       "</style>\n",
       "<table border=\"1\" class=\"dataframe\">\n",
       "  <thead>\n",
       "    <tr style=\"text-align: right;\">\n",
       "      <th></th>\n",
       "      <th>Precipitation</th>\n",
       "    </tr>\n",
       "    <tr>\n",
       "      <th>Date</th>\n",
       "      <th></th>\n",
       "    </tr>\n",
       "  </thead>\n",
       "  <tbody>\n",
       "    <tr>\n",
       "      <th>2016-08-24</th>\n",
       "      <td>1.555000</td>\n",
       "    </tr>\n",
       "    <tr>\n",
       "      <th>2016-08-25</th>\n",
       "      <td>0.077143</td>\n",
       "    </tr>\n",
       "    <tr>\n",
       "      <th>2016-08-26</th>\n",
       "      <td>0.016667</td>\n",
       "    </tr>\n",
       "    <tr>\n",
       "      <th>2016-08-27</th>\n",
       "      <td>0.064000</td>\n",
       "    </tr>\n",
       "    <tr>\n",
       "      <th>2016-08-28</th>\n",
       "      <td>0.516667</td>\n",
       "    </tr>\n",
       "  </tbody>\n",
       "</table>\n",
       "</div>"
      ],
      "text/plain": [
       "            Precipitation\n",
       "Date                     \n",
       "2016-08-24       1.555000\n",
       "2016-08-25       0.077143\n",
       "2016-08-26       0.016667\n",
       "2016-08-27       0.064000\n",
       "2016-08-28       0.516667"
      ]
     },
     "execution_count": 15,
     "metadata": {},
     "output_type": "execute_result"
    }
   ],
   "source": [
    "# Perform a query to retrieve the data and precipitation scores\n",
    "precip_year_data_df=pd.DataFrame(session.query(Measurement.date, func.avg(Measurement.prcp)).\\\n",
    "                                         filter(Measurement.date >= year_ago).\\\n",
    "                                         group_by(Measurement.date).all(), columns=['Date', 'Precipitation'])\n",
    "\n",
    "precip_year_data_df.set_index('Date', inplace=True)\n",
    "#precip_year_data_df.sort_values(by=['date'])\n",
    "precip_year_data_df.head()"
   ]
  },
  {
   "cell_type": "code",
   "execution_count": 16,
   "metadata": {},
   "outputs": [
    {
     "data": {
      "image/png": "[encoded data removed]",
      "text/plain": [
       "<Figure size 432x288 with 1 Axes>"
      ]
     },
     "metadata": {
      "needs_background": "light"
     },
     "output_type": "display_data"
    }
   ],
   "source": [
    "\n",
    "# Use Pandas Plotting with Matplotlib to plot the data\n",
    "\n",
    "precip_year_data_df.plot(use_index=True, y='Precipitation')\n",
    "\n",
    "plt.title(\"Hawaii Precipitation\", fontweight='bold',size=10)\n",
    "plt.ylabel(\"Precipitation (in.)\", size=10)\n",
    "plt.yticks(size=7)\n",
    "plt.legend([\"Precipitation\"],loc=1, fontsize='small', bbox_to_anchor=(.90, 1))\n",
    "plt.tight_layout()\n",
    "\n",
    "plt.savefig('Images/Precipitation.png')\n"
   ]
  },
  {
   "cell_type": "code",
   "execution_count": 17,
   "metadata": {},
   "outputs": [
    {
     "data": {
      "text/html": [
       "<div>\n",
       "<style scoped>\n",
       "    .dataframe tbody tr th:only-of-type {\n",
       "        vertical-align: middle;\n",
       "    }\n",
       "\n",
       "    .dataframe tbody tr th {\n",
       "        vertical-align: top;\n",
       "    }\n",
       "\n",
       "    .dataframe thead th {\n",
       "        text-align: right;\n",
       "    }\n",
       "</style>\n",
       "<table border=\"1\" class=\"dataframe\">\n",
       "  <thead>\n",
       "    <tr style=\"text-align: right;\">\n",
       "      <th></th>\n",
       "      <th>Precipitation</th>\n",
       "    </tr>\n",
       "  </thead>\n",
       "  <tbody>\n",
       "    <tr>\n",
       "      <th>count</th>\n",
       "      <td>365.000000</td>\n",
       "    </tr>\n",
       "    <tr>\n",
       "      <th>mean</th>\n",
       "      <td>0.169987</td>\n",
       "    </tr>\n",
       "    <tr>\n",
       "      <th>std</th>\n",
       "      <td>0.295722</td>\n",
       "    </tr>\n",
       "    <tr>\n",
       "      <th>min</th>\n",
       "      <td>0.000000</td>\n",
       "    </tr>\n",
       "    <tr>\n",
       "      <th>25%</th>\n",
       "      <td>0.008571</td>\n",
       "    </tr>\n",
       "    <tr>\n",
       "      <th>50%</th>\n",
       "      <td>0.070000</td>\n",
       "    </tr>\n",
       "    <tr>\n",
       "      <th>75%</th>\n",
       "      <td>0.191667</td>\n",
       "    </tr>\n",
       "    <tr>\n",
       "      <th>max</th>\n",
       "      <td>2.380000</td>\n",
       "    </tr>\n",
       "  </tbody>\n",
       "</table>\n",
       "</div>"
      ],
      "text/plain": [
       "       Precipitation\n",
       "count     365.000000\n",
       "mean        0.169987\n",
       "std         0.295722\n",
       "min         0.000000\n",
       "25%         0.008571\n",
       "50%         0.070000\n",
       "75%         0.191667\n",
       "max         2.380000"
      ]
     },
     "execution_count": 17,
     "metadata": {},
     "output_type": "execute_result"
    }
   ],
   "source": [
    "# Use Pandas to calcualte the summary statistics for the precipitation data\n",
    "precip_year_data_df.describe()"
   ]
  },
  {
   "cell_type": "code",
   "execution_count": 18,
   "metadata": {},
   "outputs": [
    {
     "data": {
      "text/plain": [
       "9"
      ]
     },
     "execution_count": 18,
     "metadata": {},
     "output_type": "execute_result"
    }
   ],
   "source": [
    "# Design a query to show how many stations are available in this dataset?\n",
    "session.query(Station.station).count()"
   ]
  },
  {
   "cell_type": "code",
   "execution_count": 19,
   "metadata": {},
   "outputs": [
    {
     "data": {
      "text/plain": [
       "[('USC00519281', 2772),\n",
       " ('USC00519397', 2724),\n",
       " ('USC00513117', 2709),\n",
       " ('USC00519523', 2669),\n",
       " ('USC00516128', 2612),\n",
       " ('USC00514830', 2202),\n",
       " ('USC00511918', 1979),\n",
       " ('USC00517948', 1372),\n",
       " ('USC00518838', 511)]"
      ]
     },
     "execution_count": 19,
     "metadata": {},
     "output_type": "execute_result"
    }
   ],
   "source": [
    "# What are the most active stations? (i.e. what stations have the most rows)?\n",
    "# List the stations and the counts in descending order.\n",
    "most_active = session.query(Measurement.station, func.count(Measurement.station)).\\\n",
    "              group_by(Measurement.station).\\\n",
    "              order_by(func.count(Measurement.station).desc()).all()\n",
    "most_active"
   ]
  },
  {
   "cell_type": "code",
   "execution_count": 20,
   "metadata": {},
   "outputs": [
    {
     "data": {
      "text/plain": [
       "[(54.0, 71.66378066378067, 85.0)]"
      ]
     },
     "execution_count": 20,
     "metadata": {},
     "output_type": "execute_result"
    }
   ],
   "source": [
    "# Using the station id from the previous query, calculate the lowest temperature recorded, \n",
    "# highest temperature recorded, and average temperature most active station?\n",
    "most_active_station= most_active[0][0]\n",
    "session.query(func.min(Measurement.tobs), func.avg(Measurement.tobs), func.max(Measurement.tobs)).\\\n",
    "                filter(Measurement.station == most_active_station).all()"
   ]
  },
  {
   "cell_type": "code",
   "execution_count": 21,
   "metadata": {},
   "outputs": [
    {
     "data": {
      "image/png": "[encoded data removed]",
      "text/plain": [
       "<Figure size 864x576 with 1 Axes>"
      ]
     },
     "metadata": {
      "needs_background": "light"
     },
     "output_type": "display_data"
    }
   ],
   "source": [
    "# Choose the station with the highest number of temperature observations.\n",
    "# Query the last 12 months of temperature observation data for this station and plot the results as a histogram\n",
    "temperature_obs = session.query(Measurement.station, Measurement.tobs).\\\n",
    "                filter(Measurement.station == most_active_station).\\\n",
    "                filter(Measurement.date >= year_ago).all()\n",
    "temperature_obs_df = pd.DataFrame(temperature_obs)\n",
    "temperature_obs_df.set_index('station', inplace=True)\n",
    "\n",
    "temperature_obs_df.plot.hist(by='station', bins=12, figsize=(12,8))\n",
    "plt.grid(True)\n",
    "plt.title(\"Temperature Observations for Station \" + most_active_station, fontsize=15)\n",
    "plt.xlabel(\"Frequency\", fontsize=12)\n",
    "plt.legend(bbox_to_anchor=(1,1), fontsize=16)\n",
    "\n",
    "plt.savefig('Images/Station_Temp_Obs.png')\n"
   ]
  },
  {
   "cell_type": "code",
   "execution_count": 22,
   "metadata": {},
   "outputs": [
    {
     "name": "stdout",
     "output_type": "stream",
     "text": [
      "[(62.0, 69.57142857142857, 74.0)]\n"
     ]
    }
   ],
   "source": [
    "# This function called `calc_temps` will accept start date and end date in the format '%Y-%m-%d' \n",
    "# and return the minimum, average, and maximum temperatures for that range of dates\n",
    "def calc_temps(start_date, end_date):\n",
    "    \"\"\"TMIN, TAVG, and TMAX for a list of dates.\n",
    "    \n",
    "    Args:\n",
    "        start_date (string): A date string in the format %Y-%m-%d\n",
    "        end_date (string): A date string in the format %Y-%m-%d\n",
    "        \n",
    "    Returns:\n",
    "        TMIN, TAVE, and TMAX\n",
    "    \"\"\"\n",
    "    \n",
    "    return session.query(func.min(Measurement.tobs), func.avg(Measurement.tobs), func.max(Measurement.tobs)).\\\n",
    "        filter(Measurement.date >= start_date).filter(Measurement.date <= end_date).all()\n",
    "\n",
    "# function usage example\n",
    "print(calc_temps('2012-02-28', '2012-03-05'))"
   ]
  },
  {
   "cell_type": "code",
   "execution_count": 23,
   "metadata": {},
   "outputs": [
    {
     "data": {
      "text/plain": [
       "[(64.0, 72.02777777777777, 78.0)]"
      ]
     },
     "execution_count": 23,
     "metadata": {},
     "output_type": "execute_result"
    }
   ],
   "source": [
    "# Use your previous function `calc_temps` to calculate the tmin, tavg, and tmax \n",
    "# for your trip using the previous year's data for those same dates.\n",
    "trip_results = calc_temps('2017-02-28', '2017-03-05')\n",
    "trip_results"
   ]
  },
  {
   "cell_type": "code",
   "execution_count": 24,
   "metadata": {},
   "outputs": [
    {
     "data": {
      "image/png": "[encoded data removed]",
      "text/plain": [
       "<Figure size 360x720 with 1 Axes>"
      ]
     },
     "metadata": {
      "needs_background": "light"
     },
     "output_type": "display_data"
    }
   ],
   "source": [
    "# Plot the results from your previous query as a bar chart. \n",
    "# Use \"Trip Avg Temp\" as your Title\n",
    "# Use the average temperature for the y value\n",
    "# Use the peak-to-peak (tmax-tmin) value as the y error bar (yerr)\n",
    "\n",
    "trip_df = pd.DataFrame(trip_results, columns=['Min Temp', 'Avg Temp', 'Max Temp'])\n",
    "avg_temp = trip_df['Avg Temp']\n",
    "tmin_tmax= trip_df.iloc[0]['Max Temp'] - trip_df.iloc[0]['Min Temp']\n",
    "\n",
    "avg_temp.plot(kind='bar', yerr=tmin_tmax, figsize=(5,10), alpha=0.5, color='salmon')\n",
    "plt.title(\"Trip Avg Temp\", fontsize=15)\n",
    "plt.ylabel(\"Temp (F)\")\n",
    "plt.xticks([])\n",
    "plt.grid(True)\n",
    "\n",
    "plt.savefig('Images/Trip_Temp.png')"
   ]
  },
  {
   "cell_type": "code",
   "execution_count": 25,
   "metadata": {},
   "outputs": [
    {
     "data": {
      "text/html": [
       "<div>\n",
       "<style scoped>\n",
       "    .dataframe tbody tr th:only-of-type {\n",
       "        vertical-align: middle;\n",
       "    }\n",
       "\n",
       "    .dataframe tbody tr th {\n",
       "        vertical-align: top;\n",
       "    }\n",
       "\n",
       "    .dataframe thead th {\n",
       "        text-align: right;\n",
       "    }\n",
       "</style>\n",
       "<table border=\"1\" class=\"dataframe\">\n",
       "  <thead>\n",
       "    <tr style=\"text-align: right;\">\n",
       "      <th></th>\n",
       "      <th>Name</th>\n",
       "      <th>Latitude</th>\n",
       "      <th>Longitude</th>\n",
       "      <th>Elevation</th>\n",
       "      <th>Precipitation</th>\n",
       "    </tr>\n",
       "    <tr>\n",
       "      <th>Station</th>\n",
       "      <th></th>\n",
       "      <th></th>\n",
       "      <th></th>\n",
       "      <th></th>\n",
       "      <th></th>\n",
       "    </tr>\n",
       "  </thead>\n",
       "  <tbody>\n",
       "    <tr>\n",
       "      <th>USC00513117</th>\n",
       "      <td>KANEOHE 838.1, HI US</td>\n",
       "      <td>21.42340</td>\n",
       "      <td>-157.80150</td>\n",
       "      <td>14.6</td>\n",
       "      <td>4.45</td>\n",
       "    </tr>\n",
       "    <tr>\n",
       "      <th>USC00514830</th>\n",
       "      <td>KUALOA RANCH HEADQUARTERS 886.9, HI US</td>\n",
       "      <td>21.52130</td>\n",
       "      <td>-157.83740</td>\n",
       "      <td>7.0</td>\n",
       "      <td>1.16</td>\n",
       "    </tr>\n",
       "    <tr>\n",
       "      <th>USC00516128</th>\n",
       "      <td>MANOA LYON ARBO 785.2, HI US</td>\n",
       "      <td>21.33310</td>\n",
       "      <td>-157.80250</td>\n",
       "      <td>152.4</td>\n",
       "      <td>4.07</td>\n",
       "    </tr>\n",
       "    <tr>\n",
       "      <th>USC00517948</th>\n",
       "      <td>PEARL CITY, HI US</td>\n",
       "      <td>21.39340</td>\n",
       "      <td>-157.97510</td>\n",
       "      <td>11.9</td>\n",
       "      <td>2.98</td>\n",
       "    </tr>\n",
       "    <tr>\n",
       "      <th>USC00519281</th>\n",
       "      <td>WAIHEE 837.5, HI US</td>\n",
       "      <td>21.45167</td>\n",
       "      <td>-157.84889</td>\n",
       "      <td>32.9</td>\n",
       "      <td>4.72</td>\n",
       "    </tr>\n",
       "    <tr>\n",
       "      <th>USC00519397</th>\n",
       "      <td>WAIKIKI 717.2, HI US</td>\n",
       "      <td>21.27160</td>\n",
       "      <td>-157.81680</td>\n",
       "      <td>3.0</td>\n",
       "      <td>2.74</td>\n",
       "    </tr>\n",
       "    <tr>\n",
       "      <th>USC00519523</th>\n",
       "      <td>WAIMANALO EXPERIMENTAL FARM, HI US</td>\n",
       "      <td>21.33556</td>\n",
       "      <td>-157.71139</td>\n",
       "      <td>19.5</td>\n",
       "      <td>2.32</td>\n",
       "    </tr>\n",
       "  </tbody>\n",
       "</table>\n",
       "</div>"
      ],
      "text/plain": [
       "                                               Name  Latitude  Longitude  \\\n",
       "Station                                                                    \n",
       "USC00513117                    KANEOHE 838.1, HI US  21.42340 -157.80150   \n",
       "USC00514830  KUALOA RANCH HEADQUARTERS 886.9, HI US  21.52130 -157.83740   \n",
       "USC00516128            MANOA LYON ARBO 785.2, HI US  21.33310 -157.80250   \n",
       "USC00517948                       PEARL CITY, HI US  21.39340 -157.97510   \n",
       "USC00519281                     WAIHEE 837.5, HI US  21.45167 -157.84889   \n",
       "USC00519397                    WAIKIKI 717.2, HI US  21.27160 -157.81680   \n",
       "USC00519523      WAIMANALO EXPERIMENTAL FARM, HI US  21.33556 -157.71139   \n",
       "\n",
       "             Elevation  Precipitation  \n",
       "Station                                \n",
       "USC00513117       14.6           4.45  \n",
       "USC00514830        7.0           1.16  \n",
       "USC00516128      152.4           4.07  \n",
       "USC00517948       11.9           2.98  \n",
       "USC00519281       32.9           4.72  \n",
       "USC00519397        3.0           2.74  \n",
       "USC00519523       19.5           2.32  "
      ]
     },
     "execution_count": 25,
     "metadata": {},
     "output_type": "execute_result"
    }
   ],
   "source": [
    "# Calculate the total amount of rainfall per weather station for your trip dates using the previous year's matching dates.\n",
    "# Sort this in descending order by precipitation amount and list the station, name, latitude, longitude, and elevation\n",
    "\n",
    "\n",
    "\n",
    "trip_precip_by_station_df=pd.DataFrame(session.query(Station.station, Station.name, Station.latitude,\n",
    "                                                     Station.longitude, Station.elevation, func.sum(Measurement.prcp)).\\\n",
    "                                       filter(Station.station==Measurement.station).\\\n",
    "                                       filter('2017-02-28'<= Measurement.date, Measurement.date <= '2017-03-05').\\\n",
    "                                       group_by(Measurement.station).all(), columns=['Station', 'Name', 'Latitude', 'Longitude','Elevation', 'Precipitation'])\n",
    "\n",
    "trip_precip_by_station_df.set_index('Station', inplace=True)\n",
    "trip_precip_by_station_df"
   ]
  },
  {
   "cell_type": "markdown",
   "metadata": {},
   "source": [
    "## Optional Challenge Assignment"
   ]
  },
  {
   "cell_type": "code",
   "execution_count": 26,
   "metadata": {},
   "outputs": [
    {
     "data": {
      "text/plain": [
       "[(62.0, 69.15384615384616, 77.0)]"
      ]
     },
     "execution_count": 26,
     "metadata": {},
     "output_type": "execute_result"
    }
   ],
   "source": [
    "# Create a query that will calculate the daily normals \n",
    "# (i.e. the averages for tmin, tmax, and tavg for all historic data matching a specific month and day)\n",
    "\n",
    "def daily_normals(date):\n",
    "    \"\"\"Daily Normals.\n",
    "    \n",
    "    Args:\n",
    "        date (str): A date string in the format '%m-%d'\n",
    "        \n",
    "    Returns:\n",
    "        A list of tuples containing the daily normals, tmin, tavg, and tmax\n",
    "    \n",
    "    \"\"\"\n",
    "    \n",
    "    sel = [func.min(Measurement.tobs), func.avg(Measurement.tobs), func.max(Measurement.tobs)]\n",
    "    return session.query(*sel).filter(func.strftime(\"%m-%d\", Measurement.date) == date).all()\n",
    "    \n",
    "daily_normals(\"01-01\")"
   ]
  },
  {
   "cell_type": "code",
   "execution_count": 27,
   "metadata": {},
   "outputs": [],
   "source": [
    "# calculate the daily normals for your trip\n",
    "# push each tuple of calculations into a list called `normals`\n",
    "\n",
    "# Set the start and end date of the trip\n",
    "\n",
    "# Use the start and end date to create a range of dates\n",
    "\n",
    "# Stip off the year and save a list of %m-%d strings\n",
    "\n",
    "# Loop through the list of %m-%d strings and calculate the normals for each date\n"
   ]
  },
  {
   "cell_type": "code",
   "execution_count": 28,
   "metadata": {},
   "outputs": [],
   "source": [
    "# Load the previous query results into a Pandas DataFrame and add the `trip_dates` range as the `date` index\n"
   ]
  },
  {
   "cell_type": "code",
   "execution_count": 35,
   "metadata": {},
   "outputs": [
    {
     "name": "stdout",
     "output_type": "stream",
     "text": [
      "{'2016-08-24': 1.45, '2016-08-25': 0.11, '2016-08-26': 0.01, '2016-08-27': None, '2016-08-28': 2.07, '2016-08-29': 0.9, '2016-08-30': 0.05, '2016-08-31': 2.46, '2016-09-01': 0.01, '2016-09-02': 0.03, '2016-09-03': 1.0, '2016-09-04': 0.44, '2016-09-05': 0.18, '2016-09-06': 1.0, '2016-09-07': 1.35, '2016-09-08': 0.15, '2016-09-09': 0.35, '2016-09-10': 1.16, '2016-09-11': 0.6, '2016-09-12': 1.04, '2016-09-13': 1.2, '2016-09-14': 6.7, '2016-09-15': 3.35, '2016-09-16': 0.61, '2016-09-17': 0.23, '2016-09-18': 0.42, '2016-09-19': 0.25, '2016-09-20': 0.43, '2016-09-21': 1.02, '2016-09-22': 0.75, '2016-09-23': 0.33, '2016-09-24': 0.27, '2016-09-25': 0.04, '2016-09-26': 1.02, '2016-09-27': 1.0, '2016-09-28': 0.05, '2016-09-29': 1.49, '2016-09-30': 0.38, '2016-10-01': 1.02, '2016-10-02': 0.61, '2016-10-03': 0.46, '2016-10-04': 3.46, '2016-10-05': 0.81, '2016-10-06': 0.04, '2016-10-07': 0.01, '2016-10-08': 0.04, '2016-10-09': 0.0, '2016-10-10': 0.0, '2016-10-11': 0.35, '2016-10-12': 0.02, '2016-10-13': 0.06, '2016-10-14': 0.0, '2016-10-15': 0.33, '2016-10-16': 0.0, '2016-10-17': 0.38, '2016-10-18': 0.48, '2016-10-19': 0.0, '2016-10-20': 1.0, '2016-10-21': 0.09, '2016-10-22': 1.37, '2016-10-23': 0.24, '2016-10-24': 0.7, '2016-10-25': 0.4, '2016-10-26': 0.0, '2016-10-27': 1.25, '2016-10-28': 0.37, '2016-10-29': 0.25, '2016-10-30': 0.95, '2016-10-31': 1.35, '2016-11-01': 0.09, '2016-11-02': 0.04, '2016-11-03': 0.02, '2016-11-04': 0.06, '2016-11-05': 0.38, '2016-11-06': 0.05, '2016-11-07': 0.05, '2016-11-08': 0.53, '2016-11-09': 0.04, '2016-11-10': 0.01, '2016-11-11': 0.0, '2016-11-12': 0.0, '2016-11-13': 0.0, '2016-11-14': 0.02, '2016-11-15': 0.05, '2016-11-16': 0.91, '2016-11-17': 0.02, '2016-11-18': 0.0, '2016-11-19': 0.11, '2016-11-20': None, '2016-11-21': 2.87, '2016-11-22': 2.11, '2016-11-23': 0.22, '2016-11-24': 0.72, '2016-11-25': 1.03, '2016-11-26': 0.3, '2016-11-27': 0.29, '2016-11-28': 0.69, '2016-11-29': 0.2, '2016-11-30': 0.79, '2016-12-01': 0.72, '2016-12-02': 1.27, '2016-12-03': 1.62, '2016-12-04': 0.31, '2016-12-05': 1.6, '2016-12-06': 0.0, '2016-12-07': 0.02, '2016-12-08': 0.03, '2016-12-09': 0.42, '2016-12-10': 0.04, '2016-12-11': 0.13, '2016-12-12': 0.01, '2016-12-13': 0.09, '2016-12-14': 0.33, '2016-12-15': 0.03, '2016-12-16': 0.0, '2016-12-17': 0.07, '2016-12-18': None, '2016-12-19': 0.15, '2016-12-20': 0.0, '2016-12-21': 0.55, '2016-12-22': 1.24, '2016-12-23': 0.83, '2016-12-24': 1.08, '2016-12-25': 0.38, '2016-12-26': 1.48, '2016-12-27': 0.14, '2016-12-28': 0.14, '2016-12-29': 1.03, '2016-12-30': 2.37, '2016-12-31': 0.9, '2017-01-01': 0.03, '2017-01-02': 0.0, '2017-01-03': 0.0, '2017-01-04': 0.0, '2017-01-05': 0.47, '2017-01-06': 0.1, '2017-01-07': 0.0, '2017-01-08': 0.03, '2017-01-09': 0.0, '2017-01-10': 0.0, '2017-01-11': 0.0, '2017-01-12': 0.0, '2017-01-13': 0.0, '2017-01-14': 0.0, '2017-01-15': 0.01, '2017-01-16': 0.0, '2017-01-17': 0.0, '2017-01-18': 0.07, '2017-01-19': 0.0, '2017-01-20': 0.0, '2017-01-21': 0.08, '2017-01-22': 0.72, '2017-01-23': 0.85, '2017-01-24': 1.85, '2017-01-25': 2.64, '2017-01-26': 0.1, '2017-01-27': 0.03, '2017-01-28': 0.0, '2017-01-29': 0.55, '2017-01-30': 0.0, '2017-01-31': 0.0, '2017-02-01': 0.0, '2017-02-02': 0.0, '2017-02-03': 0.0, '2017-02-04': None, '2017-02-05': 0.0, '2017-02-06': 0.0, '2017-02-07': 1.79, '2017-02-08': 0.0, '2017-02-09': 0.0, '2017-02-10': 0.0, '2017-02-11': 0.73, '2017-02-12': 1.83, '2017-02-13': 0.0, '2017-02-14': 0.01, '2017-02-15': 0.07, '2017-02-16': 0.13, '2017-02-17': 0.13, '2017-02-18': None, '2017-02-19': 0.1, '2017-02-20': 0.0, '2017-02-21': 0.07, '2017-02-22': 0.32, '2017-02-23': 0.0, '2017-02-24': 0.0, '2017-02-25': 0.12, '2017-02-26': 0.0, '2017-02-27': 0.0, '2017-02-28': 0.58, '2017-03-01': 2.0, '2017-03-02': 0.58, '2017-03-03': 0.56, '2017-03-04': 0.0, '2017-03-05': 0.35, '2017-03-06': 0.0, '2017-03-07': 0.0, '2017-03-08': 0.0, '2017-03-09': 0.01, '2017-03-10': 0.0, '2017-03-11': 0.0, '2017-03-12': 0.0, '2017-03-13': None, '2017-03-14': 0.0, '2017-03-15': 0.0, '2017-03-16': 0.0, '2017-03-17': 0.12, '2017-03-18': None, '2017-03-19': 0.0, '2017-03-20': 0.0, '2017-03-21': 0.0, '2017-03-22': 0.0, '2017-03-23': 0.03, '2017-03-24': 0.17, '2017-03-25': 0.48, '2017-03-26': 0.0, '2017-03-27': 0.0, '2017-03-28': 0.68, '2017-03-29': 0.07, '2017-03-30': 0.04, '2017-03-31': None, '2017-04-01': 0.2, '2017-04-02': 0.0, '2017-04-03': 0.23, '2017-04-04': 0.02, '2017-04-05': 0.45, '2017-04-06': 0.0, '2017-04-07': 0.0, '2017-04-08': None, '2017-04-09': 0.0, '2017-04-10': 0.0, '2017-04-11': 0.25, '2017-04-12': 0.65, '2017-04-13': 0.23, '2017-04-14': 2.82, '2017-04-15': 0.9, '2017-04-16': 0.11, '2017-04-17': 1.3, '2017-04-18': 0.98, '2017-04-19': 0.14, '2017-04-20': 0.0, '2017-04-21': 1.84, '2017-04-22': 1.35, '2017-04-23': 0.35, '2017-04-24': 0.05, '2017-04-25': 0.0, '2017-04-26': 0.22, '2017-04-27': 0.11, '2017-04-28': 0.79, '2017-04-29': 0.0, '2017-04-30': 0.8, '2017-05-01': 0.25, '2017-05-02': 0.0, '2017-05-03': 0.01, '2017-05-04': None, '2017-05-05': 0.1, '2017-05-06': 0.0, '2017-05-07': 0.03, '2017-05-08': 1.11, '2017-05-10': 0.55, '2017-05-11': 0.44, '2017-05-12': 0.1, '2017-05-13': 0.1, '2017-05-14': 1.0, '2017-05-15': 0.6, '2017-05-16': 0.3, '2017-05-17': 0.06, '2017-05-18': 0.0, '2017-05-19': 0.01, '2017-05-20': None, '2017-05-21': 0.0, '2017-05-22': 0.3, '2017-05-23': 0.44, '2017-05-24': 2.17, '2017-05-25': 0.88, '2017-05-27': 0.5, '2017-05-28': 0.0, '2017-05-29': 0.4, '2017-05-30': None, '2017-05-31': 0.25, '2017-06-01': 0.01, '2017-06-02': 0.09, '2017-06-03': None, '2017-06-04': 0.82, '2017-06-05': 0.01, '2017-06-06': 0.0, '2017-06-07': 0.01, '2017-06-08': 0.0, '2017-06-09': 0.02, '2017-06-10': None, '2017-06-11': 0.7, '2017-06-12': 0.81, '2017-06-13': 0.65, '2017-06-14': 0.81, '2017-06-15': 1.69, '2017-06-16': 0.1, '2017-06-17': 0.1, '2017-06-18': 0.7, '2017-06-19': 0.4, '2017-06-20': 0.31, '2017-06-21': 0.3, '2017-06-22': 0.28, '2017-06-23': 0.5, '2017-06-24': 0.22, '2017-06-25': 0.5, '2017-06-26': 0.02, '2017-06-27': 0.1, '2017-06-28': 0.02, '2017-06-29': 0.04, '2017-06-30': 0.2, '2017-07-01': 0.1, '2017-07-02': 0.5, '2017-07-03': 0.4, '2017-07-04': 0.0, '2017-07-05': 0.0, '2017-07-06': 0.02, '2017-07-07': 0.3, '2017-07-08': 0.02, '2017-07-09': 0.0, '2017-07-10': 0.02, '2017-07-11': 0.0, '2017-07-12': 0.05, '2017-07-13': 0.68, '2017-07-14': 0.68, '2017-07-15': 0.1, '2017-07-16': 0.5, '2017-07-17': 0.39, '2017-07-18': 2.4, '2017-07-20': 0.7, '2017-07-21': 0.1, '2017-07-22': 4.0, '2017-07-23': 0.8, '2017-07-24': 0.84, '2017-07-25': 0.3, '2017-07-26': 0.3, '2017-07-27': 0.0, '2017-07-28': 0.4, '2017-07-29': 0.3, '2017-07-30': 0.3, '2017-07-31': 0.0, '2017-08-01': None, '2017-08-02': 0.25, '2017-08-03': 0.06, '2017-08-04': 0.0, '2017-08-05': None, '2017-08-06': None, '2017-08-07': 0.05, '2017-08-08': 0.34, '2017-08-09': 0.15, '2017-08-10': 0.07, '2017-08-11': None, '2017-08-12': 0.14, '2017-08-13': None, '2017-08-14': 0.22, '2017-08-15': 0.42, '2017-08-18': None, '2017-08-19': 0.09, '2017-08-20': None, '2017-08-21': 0.56, '2017-08-22': 0.5, '2017-08-23': 0.45, '2017-05-09': 0.23, '2017-05-26': 0.0, '2017-07-19': 0.27, '2017-08-16': 0.42, '2017-08-17': 0.13}\n"
     ]
    }
   ],
   "source": [
    "last_obs_date=session.query(Measurement.date).\\\n",
    "    order_by(Measurement.date.desc()).first().date\n",
    "    \n",
    "year_ago = dt.datetime.strptime(last_obs_date, '%Y-%m-%d') - dt.timedelta(days=365)\n",
    "yr_precip_year_query=session.query(Measurement.date, Measurement.prcp).\\\n",
    "                            filter(Measurement.date >= year_ago).\\\n",
    "                            all()\n",
    "\n",
    "yr_precip_query_results = dict(yr_precip_year_query)\n",
    "print(yr_precip_query_results)"
   ]
  },
  {
   "cell_type": "code",
   "execution_count": null,
   "metadata": {},
   "outputs": [],
   "source": []
  }
 ],
 "metadata": {
  "kernel_info": {
   "name": "python3"
  },
  "kernelspec": {
   "display_name": "Python 3",
   "language": "python",
   "name": "python3"
  },
  "language_info": {
   "codemirror_mode": {
    "name": "ipython",
    "version": 3
   },
   "file_extension": ".py",
   "mimetype": "text/x-python",
   "name": "python",
   "nbconvert_exporter": "python",
   "pygments_lexer": "ipython3",
   "version": "3.7.1"
  },
  "nteract": {
   "version": "0.12.3"
  },
  "varInspector": {
   "cols": {
    "lenName": 16,
    "lenType": 16,
    "lenVar": 40
   },
   "kernels_config": {
    "python": {
     "delete_cmd_postfix": "",
     "delete_cmd_prefix": "del ",
     "library": "var_list.py",
     "varRefreshCmd": "print(var_dic_list())"
    },
    "r": {
     "delete_cmd_postfix": ") ",
     "delete_cmd_prefix": "rm(",
     "library": "var_list.r",
     "varRefreshCmd": "cat(var_dic_list()) "
    }
   },
   "types_to_exclude": [
    "module",
    "function",
    "builtin_function_or_method",
    "instance",
    "_Feature"
   ],
   "window_display": false
  }
 },
 "nbformat": 4,
 "nbformat_minor": 2
}
